{
 "cells": [
  {
   "cell_type": "code",
   "execution_count": 1,
   "metadata": {},
   "outputs": [],
   "source": [
    "%load_ext autoreload\n",
    "%autoreload 2\n",
    "\n",
    "\n",
    "import numpy as np\n",
    "import torch\n",
    "from torch.utils.data import Dataset, DataLoader\n",
    "\n",
    "from cellmates.data.sample import Sample\n",
    "from cellmates.data.dataset import CellMatesDataset\n",
    "from cellmates.data.stubs import (\n",
    "    generate_dataset_for_n_cells_test, \n",
    "    generate_dataset_for_cell_type, \n",
    "    generate_dataset_for_distances\n",
    ")\n"
   ]
  },
  {
   "cell_type": "code",
   "execution_count": 2,
   "metadata": {},
   "outputs": [],
   "source": [
    "sample = Sample(\n",
    "    cell_types=[1,2,3], \n",
    "    distances=torch.zeros((3,3)), \n",
    "    responder_cell_type=1, \n",
    "    is_dividing=False\n",
    ")"
   ]
  },
  {
   "cell_type": "markdown",
   "metadata": {},
   "source": [
    "# Test datasets:"
   ]
  },
  {
   "cell_type": "code",
   "execution_count": 3,
   "metadata": {},
   "outputs": [
    {
     "data": {
      "text/plain": [
       "<cellmates.data.dataset.CellMatesDataset at 0x11a96f2c0>"
      ]
     },
     "execution_count": 3,
     "metadata": {},
     "output_type": "execute_result"
    }
   ],
   "source": [
    "generate_dataset_for_n_cells_test()\n",
    "generate_dataset_for_cell_type()\n",
    "generate_dataset_for_distances()"
   ]
  },
  {
   "cell_type": "code",
   "execution_count": 4,
   "metadata": {},
   "outputs": [],
   "source": [
    "area = (3.14*(140**2))\n"
   ]
  },
  {
   "cell_type": "code",
   "execution_count": 5,
   "metadata": {},
   "outputs": [],
   "source": [
    "H,L,K = 2,3,4\n",
    "\n",
    "E_HLL = torch.randn((H,L,L))\n",
    "\n",
    "V1_LK = torch.randn((L,K))\n",
    "V2_LK = torch.randn((L,K))\n",
    "\n",
    "V_HLK = torch.stack([V1_LK,V2_LK])\n",
    "\n",
    "# using einsum\n",
    "V_LHK = V_HLK.permute(1,0,2)\n",
    "Z_LHK = torch.einsum(\"HLX,XHK->LHK\", E_HLL, V_LHK)\n",
    "\n",
    "# using straightforward:\n",
    "Z_HLK_sf = torch.matmul(E_HLL, V_HLK)\n",
    "Z_HLK_sf = Z_HLK_sf.view(L,H,K)"
   ]
  },
  {
   "cell_type": "code",
   "execution_count": 6,
   "metadata": {},
   "outputs": [
    {
     "data": {
      "text/plain": [
       "tensor([[[ 0.6873,  1.1187,  2.0891, -1.7101],\n",
       "         [-0.3542,  0.6051,  0.1643, -1.6346]],\n",
       "\n",
       "        [[ 4.1546, -1.5799, -4.3477, -0.7346],\n",
       "         [-2.8730,  1.7009,  1.3387, -1.6222]],\n",
       "\n",
       "        [[-2.5943, -1.3149, -0.3851,  2.2987],\n",
       "         [ 2.1534, -1.0339, -1.0051,  0.3659]]])"
      ]
     },
     "execution_count": 6,
     "metadata": {},
     "output_type": "execute_result"
    }
   ],
   "source": [
    "Z_LHK"
   ]
  },
  {
   "cell_type": "code",
   "execution_count": 7,
   "metadata": {},
   "outputs": [
    {
     "data": {
      "text/plain": [
       "tensor([[[ 0.6873,  1.1187,  2.0891, -1.7101],\n",
       "         [ 4.1546, -1.5799, -4.3477, -0.7346]],\n",
       "\n",
       "        [[-2.5943, -1.3149, -0.3851,  2.2987],\n",
       "         [-0.3542,  0.6051,  0.1643, -1.6346]],\n",
       "\n",
       "        [[-2.8730,  1.7009,  1.3387, -1.6222],\n",
       "         [ 2.1534, -1.0339, -1.0051,  0.3659]]])"
      ]
     },
     "execution_count": 7,
     "metadata": {},
     "output_type": "execute_result"
    }
   ],
   "source": [
    "Z_HLK_sf"
   ]
  },
  {
   "cell_type": "code",
   "execution_count": 8,
   "metadata": {},
   "outputs": [],
   "source": [
    "from cellmates.model.transformer import SpatialMultiHeadAttention, CellMatesTransformer"
   ]
  },
  {
   "cell_type": "code",
   "execution_count": 13,
   "metadata": {},
   "outputs": [],
   "source": [
    "H,L,K = 2,3,4\n",
    "D = H*K\n",
    "\n",
    "smh = SpatialMultiHeadAttention(D,H,K,'cpu')\n",
    "tf = CellMatesTransformer(D,H,K)"
   ]
  },
  {
   "cell_type": "code",
   "execution_count": 12,
   "metadata": {},
   "outputs": [
    {
     "data": {
      "text/plain": [
       "torch.Size([16, 3, 8])"
      ]
     },
     "execution_count": 12,
     "metadata": {},
     "output_type": "execute_result"
    }
   ],
   "source": [
    "B = 16\n",
    "x = torch.randn((B,L,D))\n",
    "\n",
    "\n",
    "distance_idxs_BLL = torch.randint(low=0, high=10, size=(B,L,L))\n",
    "distance_embeddings = tf.distance_embeddings\n",
    "\n",
    "smh(x, distance_idxs_BLL, distance_embeddings).shape"
   ]
  },
  {
   "cell_type": "code",
   "execution_count": 19,
   "metadata": {},
   "outputs": [
    {
     "data": {
      "text/plain": [
       "torch.Size([16, 1])"
      ]
     },
     "execution_count": 19,
     "metadata": {},
     "output_type": "execute_result"
    }
   ],
   "source": [
    "cell_types_BL = torch.randint(low=0, high=5, size=(B,L))\n",
    "distance_idxs_BLL = torch.randint(low=0, high=10, size=(B,L,L))\n",
    "\n",
    "tf(cell_types_BL, distance_idxs_BLL).shape"
   ]
  },
  {
   "cell_type": "markdown",
   "metadata": {},
   "source": [
    "# Scratch:"
   ]
  },
  {
   "cell_type": "code",
   "execution_count": 11,
   "metadata": {},
   "outputs": [],
   "source": [
    "tf = CellMatesTransformer(D,H,K)"
   ]
  },
  {
   "cell_type": "code",
   "execution_count": 50,
   "metadata": {},
   "outputs": [],
   "source": [
    "V = torch.randn((L,D))\n",
    "Wq = torch.randn((D,K))\n",
    "A = torch.randn((L,L,K))\n",
    "\n",
    "E = torch.zeros((L,L))\n",
    "\n",
    "for i in range(L):\n",
    "    for j in range(L):\n",
    "        E[i,j] = (V[i,:] @ Wq) @ A[i,j]\n",
    "\n",
    "\n",
    "E_einsum = torch.einsum('LK,LXK -> LX', V@Wq, A)\n"
   ]
  },
  {
   "cell_type": "code",
   "execution_count": null,
   "metadata": {},
   "outputs": [],
   "source": [
    "V = torch.randn((L,D))\n",
    "Wq = torch.randn((D,K))\n",
    "A = torch.randn((L,L,K))\n",
    "\n",
    "E = torch.zeros((L,L))\n",
    "\n",
    "for i in range(L):\n",
    "    for j in range(L):\n",
    "        E[i,j] = (V[i,:] @ Wq) @ A[i,j]\n",
    "\n",
    "\n",
    "E_einsum = torch.einsum('LK,LXK -> LX', V@Wq, A)\n"
   ]
  },
  {
   "cell_type": "code",
   "execution_count": 52,
   "metadata": {},
   "outputs": [
    {
     "data": {
      "text/plain": [
       "tensor([[-3.8700,  3.8456, -0.8910],\n",
       "        [ 1.3790, -6.7893, -5.1333],\n",
       "        [ 2.3019,  1.3572, -0.9927]])"
      ]
     },
     "execution_count": 52,
     "metadata": {},
     "output_type": "execute_result"
    }
   ],
   "source": [
    "E"
   ]
  },
  {
   "cell_type": "code",
   "execution_count": 51,
   "metadata": {},
   "outputs": [
    {
     "data": {
      "text/plain": [
       "tensor([[-3.8700,  3.8456, -0.8910],\n",
       "        [ 1.3790, -6.7893, -5.1333],\n",
       "        [ 2.3019,  1.3572, -0.9927]])"
      ]
     },
     "execution_count": 51,
     "metadata": {},
     "output_type": "execute_result"
    }
   ],
   "source": [
    "E_einsum"
   ]
  },
  {
   "cell_type": "code",
   "execution_count": 15,
   "metadata": {},
   "outputs": [
    {
     "data": {
      "text/plain": [
       "tensor([[[-0.4611, -0.4611, -0.4611],\n",
       "         [-0.6132, -0.6132, -0.6132],\n",
       "         [ 0.5478,  0.5478,  0.5478]],\n",
       "\n",
       "        [[-0.9738, -0.9738, -0.9738],\n",
       "         [-1.4068, -1.4068, -1.4068],\n",
       "         [-0.5524, -0.5524, -0.5524]]])"
      ]
     },
     "execution_count": 15,
     "metadata": {},
     "output_type": "execute_result"
    }
   ],
   "source": [
    "Eqr_BHL = torch.randn((H,L))\n",
    "\n",
    "Eqr_BHL.unsqueeze(-1).expand((H, L, L))"
   ]
  },
  {
   "cell_type": "code",
   "execution_count": 27,
   "metadata": {},
   "outputs": [
    {
     "data": {
      "text/plain": [
       "tensor([[[ 1.9296,  1.5269,  0.1034,  0.4090],\n",
       "         [ 1.0287, -0.4787,  0.0894, -0.8882],\n",
       "         [-0.2348, -0.3270, -0.5398, -1.3754]],\n",
       "\n",
       "        [[ 1.9296,  1.5269,  0.1034,  0.4090],\n",
       "         [ 1.0287, -0.4787,  0.0894, -0.8882],\n",
       "         [-0.2348, -0.3270, -0.5398, -1.3754]]])"
      ]
     },
     "execution_count": 27,
     "metadata": {},
     "output_type": "execute_result"
    }
   ],
   "source": [
    "Zqr_BLK = torch.randn((2,3,4))\n",
    "\n",
    "Zqr_BLK.unsqueeze(1).expand(size=(2,2,3,4))[0]\n"
   ]
  },
  {
   "cell_type": "code",
   "execution_count": 47,
   "metadata": {},
   "outputs": [
    {
     "data": {
      "text/plain": [
       "(torch.Size([4]), 4)"
      ]
     },
     "execution_count": 47,
     "metadata": {},
     "output_type": "execute_result"
    }
   ],
   "source": [
    "A[i,j].shape, K"
   ]
  },
  {
   "cell_type": "code",
   "execution_count": 49,
   "metadata": {},
   "outputs": [
    {
     "data": {
      "text/plain": [
       "(torch.Size([8]), 8)"
      ]
     },
     "execution_count": 49,
     "metadata": {},
     "output_type": "execute_result"
    }
   ],
   "source": [
    "V[i,:].shape, D"
   ]
  },
  {
   "cell_type": "code",
   "execution_count": 44,
   "metadata": {},
   "outputs": [
    {
     "data": {
      "text/plain": [
       "torch.Size([2, 3, 4])"
      ]
     },
     "execution_count": 44,
     "metadata": {},
     "output_type": "execute_result"
    }
   ],
   "source": [
    "idxs = torch.LongTensor([[1,2,4],[1,2,3]])\n",
    "\n",
    "tf.distance_embeddings['K_qr'](idxs).shape"
   ]
  }
 ],
 "metadata": {
  "kernelspec": {
   "display_name": ".venv",
   "language": "python",
   "name": "python3"
  },
  "language_info": {
   "codemirror_mode": {
    "name": "ipython",
    "version": 3
   },
   "file_extension": ".py",
   "mimetype": "text/x-python",
   "name": "python",
   "nbconvert_exporter": "python",
   "pygments_lexer": "ipython3",
   "version": "3.12.1"
  }
 },
 "nbformat": 4,
 "nbformat_minor": 2
}
