{
 "cells": [
  {
   "cell_type": "code",
   "execution_count": 36,
   "metadata": {},
   "outputs": [
    {
     "name": "stdout",
     "output_type": "stream",
     "text": [
      "The autoreload extension is already loaded. To reload it, use:\n",
      "  %reload_ext autoreload\n"
     ]
    }
   ],
   "source": [
    "%load_ext autoreload\n",
    "%autoreload 2\n",
    "\n",
    "from cellmates.data.breast import BreastCancerTissueDataset\n",
    "from cellmates.data.dataset import CellMatesDataset\n",
    "from cellmates.utils import MAX_EFFECTIVE_DISTANCE\n",
    "\n",
    "import torch\n",
    "from torch.utils.data import DataLoader"
   ]
  },
  {
   "cell_type": "code",
   "execution_count": 2,
   "metadata": {},
   "outputs": [],
   "source": [
    "responder_cell_type = 'F'\n",
    "\n",
    "\n",
    "dss = [BreastCancerTissueDataset(\n",
    "    tissue_idx=i, \n",
    "    effective_distance=MAX_EFFECTIVE_DISTANCE, \n",
    "    responder_cell_type=responder_cell_type)\n",
    "    for i in range(1,4)\n",
    "]"
   ]
  },
  {
   "cell_type": "code",
   "execution_count": 31,
   "metadata": {},
   "outputs": [],
   "source": [
    "ds = dss[0]\n",
    "samples = [ds[3], ds[1]]\n",
    "ds = CellMatesDataset(samples)"
   ]
  },
  {
   "cell_type": "code",
   "execution_count": 63,
   "metadata": {},
   "outputs": [
    {
     "data": {
      "text/plain": [
       "tensor([[2., 2., 2., 2.],\n",
       "        [3., 3., 3., 3.]])"
      ]
     },
     "execution_count": 63,
     "metadata": {},
     "output_type": "execute_result"
    }
   ],
   "source": [
    "B = 2\n",
    "L = 3\n",
    "D = 4\n",
    "padding_mask_BL = torch.ones((B,L))\n",
    "padding_mask_BL[0,2] = 0\n",
    "hidden_BLD = torch.ones((B,L,D))\n",
    "\n",
    "torch.einsum(\"BLD,BL->BD\", hidden_BLD, padding_mask_BL)"
   ]
  },
  {
   "cell_type": "code",
   "execution_count": 68,
   "metadata": {},
   "outputs": [
    {
     "data": {
      "text/plain": [
       "tensor([[1., 1., 0.],\n",
       "        [1., 1., 1.]])"
      ]
     },
     "execution_count": 68,
     "metadata": {},
     "output_type": "execute_result"
    }
   ],
   "source": [
    "padding_mask_BL"
   ]
  },
  {
   "cell_type": "code",
   "execution_count": 81,
   "metadata": {},
   "outputs": [
    {
     "data": {
      "text/plain": [
       "tensor([[1., 1., 0.],\n",
       "        [1., 1., 0.],\n",
       "        [0., 0., 0.]])"
      ]
     },
     "execution_count": 81,
     "metadata": {},
     "output_type": "execute_result"
    }
   ],
   "source": [
    "padding_mask_BL[0].repeat(3,1) * padding_mask_BL[0].repeat(3,1).T"
   ]
  },
  {
   "cell_type": "code",
   "execution_count": 101,
   "metadata": {},
   "outputs": [
    {
     "data": {
      "text/plain": [
       "tensor([[[[1., 1., 0.],\n",
       "          [1., 1., 0.],\n",
       "          [0., 0., 0.]],\n",
       "\n",
       "         [[1., 1., 1.],\n",
       "          [1., 1., 1.],\n",
       "          [1., 1., 1.]],\n",
       "\n",
       "         [[1., 1., 0.],\n",
       "          [1., 1., 0.],\n",
       "          [0., 0., 0.]],\n",
       "\n",
       "         [[1., 1., 1.],\n",
       "          [1., 1., 1.],\n",
       "          [1., 1., 1.]]],\n",
       "\n",
       "\n",
       "        [[[1., 1., 0.],\n",
       "          [1., 1., 0.],\n",
       "          [0., 0., 0.]],\n",
       "\n",
       "         [[1., 1., 1.],\n",
       "          [1., 1., 1.],\n",
       "          [1., 1., 1.]],\n",
       "\n",
       "         [[1., 1., 0.],\n",
       "          [1., 1., 0.],\n",
       "          [0., 0., 0.]],\n",
       "\n",
       "         [[1., 1., 1.],\n",
       "          [1., 1., 1.],\n",
       "          [1., 1., 1.]]]])"
      ]
     },
     "execution_count": 101,
     "metadata": {},
     "output_type": "execute_result"
    }
   ],
   "source": [
    "_ = padding_mask_BL.repeat(1,H,1,L).reshape((B,H,L,L))\n",
    "padding_mask_BHLL = _ * _.permute(0,1,3,2)\n",
    "padding_mask_BHLL"
   ]
  },
  {
   "cell_type": "code",
   "execution_count": 137,
   "metadata": {},
   "outputs": [],
   "source": [
    "from cellmates.data.dataset import collate_fn\n",
    "\n",
    "dl = DataLoader(\n",
    "    ds, batch_size=2, collate_fn=collate_fn, shuffle=True\n",
    ")"
   ]
  },
  {
   "cell_type": "code",
   "execution_count": 138,
   "metadata": {},
   "outputs": [],
   "source": [
    "batch = next(iter(dl))"
   ]
  },
  {
   "cell_type": "code",
   "execution_count": 139,
   "metadata": {},
   "outputs": [],
   "source": [
    "from cellmates.model.transformer import CellMatesTransformer"
   ]
  },
  {
   "cell_type": "code",
   "execution_count": 145,
   "metadata": {},
   "outputs": [
    {
     "data": {
      "text/plain": [
       "tensor([[38.1759],\n",
       "        [36.9896]], grad_fn=<AddmmBackward0>)"
      ]
     },
     "execution_count": 145,
     "metadata": {},
     "output_type": "execute_result"
    }
   ],
   "source": [
    "CellMatesTransformer(\n",
    "    D = (16 * 4),\n",
    "    K=4\n",
    ").forward(batch['cell_types_BL'], batch['distances_BLL'], batch['padding_mask_BL'])"
   ]
  },
  {
   "cell_type": "code",
   "execution_count": 119,
   "metadata": {},
   "outputs": [
    {
     "data": {
      "text/plain": [
       "3129344"
      ]
     },
     "execution_count": 119,
     "metadata": {},
     "output_type": "execute_result"
    }
   ],
   "source": [
    "import numpy as np\n",
    "\n",
    "np.prod([2, 191, 16, 512])"
   ]
  }
 ],
 "metadata": {
  "kernelspec": {
   "display_name": ".venv",
   "language": "python",
   "name": "python3"
  },
  "language_info": {
   "codemirror_mode": {
    "name": "ipython",
    "version": 3
   },
   "file_extension": ".py",
   "mimetype": "text/x-python",
   "name": "python",
   "nbconvert_exporter": "python",
   "pygments_lexer": "ipython3",
   "version": "3.11.7"
  }
 },
 "nbformat": 4,
 "nbformat_minor": 2
}
