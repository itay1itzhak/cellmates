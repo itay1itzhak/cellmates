{
 "cells": [
  {
   "cell_type": "code",
   "execution_count": 36,
   "metadata": {},
   "outputs": [
    {
     "name": "stdout",
     "output_type": "stream",
     "text": [
      "The autoreload extension is already loaded. To reload it, use:\n",
      "  %reload_ext autoreload\n"
     ]
    }
   ],
   "source": [
    "%load_ext autoreload\n",
    "%autoreload 2\n",
    "\n",
    "from cellmates.data.breast import BreastCancerTissueDataset\n",
    "from cellmates.data.dataset import CellMatesDataset\n",
    "from cellmates.utils import MAX_EFFECTIVE_DISTANCE\n",
    "\n",
    "import torch\n",
    "from torch.utils.data import DataLoader"
   ]
  },
  {
   "cell_type": "code",
   "execution_count": 2,
   "metadata": {},
   "outputs": [],
   "source": [
    "responder_cell_type = 'F'\n",
    "\n",
    "\n",
    "dss = [BreastCancerTissueDataset(\n",
    "    tissue_idx=i, \n",
    "    effective_distance=MAX_EFFECTIVE_DISTANCE, \n",
    "    responder_cell_type=responder_cell_type)\n",
    "    for i in range(1,4)\n",
    "]"
   ]
  },
  {
   "cell_type": "code",
   "execution_count": 31,
   "metadata": {},
   "outputs": [],
   "source": [
    "ds = dss[0]\n",
    "samples = [ds[3], ds[1]]\n",
    "ds = CellMatesDataset(samples)"
   ]
  },
  {
   "cell_type": "code",
   "execution_count": 56,
   "metadata": {},
   "outputs": [],
   "source": [
    "from cellmates.data.dataset import collate_fn\n",
    "\n",
    "dl = DataLoader(\n",
    "    ds, batch_size=2, collate_fn=collate_fn, shuffle=True\n",
    ")"
   ]
  },
  {
   "cell_type": "code",
   "execution_count": 58,
   "metadata": {},
   "outputs": [],
   "source": [
    "batch = next(iter(dl))"
   ]
  }
 ],
 "metadata": {
  "kernelspec": {
   "display_name": ".venv",
   "language": "python",
   "name": "python3"
  },
  "language_info": {
   "codemirror_mode": {
    "name": "ipython",
    "version": 3
   },
   "file_extension": ".py",
   "mimetype": "text/x-python",
   "name": "python",
   "nbconvert_exporter": "python",
   "pygments_lexer": "ipython3",
   "version": "3.11.7"
  }
 },
 "nbformat": 4,
 "nbformat_minor": 2
}
