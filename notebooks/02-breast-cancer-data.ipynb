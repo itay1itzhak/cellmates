{
 "cells": [
  {
   "cell_type": "code",
   "execution_count": 1,
   "metadata": {},
   "outputs": [],
   "source": [
    "%load_ext autoreload\n",
    "%autoreload 2\n",
    "\n",
    "from cellmates.data.breast import BreastCancerTissueDataset, get_datasets\n",
    "from cellmates.data.dataset import CellMatesDataset\n",
    "from cellmates.utils import MAX_EFFECTIVE_DISTANCE\n",
    "from tdm.cell_types import FIBROBLAST, MACROPHAGE\n",
    "\n",
    "import torch\n",
    "from torch.utils.data import DataLoader"
   ]
  },
  {
   "cell_type": "code",
   "execution_count": 2,
   "metadata": {},
   "outputs": [],
   "source": [
    "\n",
    "\n",
    "\n",
    "# ds = get_datasets(responder_cell_type=FIBROBLAST, effective_distance=MAX_EFFECTIVE_DISTANCE, concatenated=True)"
   ]
  },
  {
   "cell_type": "code",
   "execution_count": 3,
   "metadata": {},
   "outputs": [],
   "source": [
    "ds = BreastCancerTissueDataset(\n",
    "    tissue=1, \n",
    "    effective_distance=MAX_EFFECTIVE_DISTANCE, \n",
    "    responder_cell_type='F'\n",
    ")\n",
    "\n",
    "samples = [s for s in ds]\n",
    "\n",
    "ds = CellMatesDataset(samples)"
   ]
  },
  {
   "cell_type": "code",
   "execution_count": 4,
   "metadata": {},
   "outputs": [],
   "source": [
    "from tdm.tissue import StubTissue\n",
    "from tdm.utils import microns\n",
    "\n",
    "st = StubTissue(\n",
    "    cell_types=[FIBROBLAST, MACROPHAGE],\n",
    "    cell_type_xy_tuples=[\n",
    "        (FIBROBLAST, microns(500), microns(500), 0), # located at 500,500, not dividing\n",
    "        (FIBROBLAST, microns(500), microns(500), 0),\n",
    "        (MACROPHAGE, microns(500), microns(550.1), 0),\n",
    "        (FIBROBLAST, microns(500), microns(600), 1)\n",
    "    ],\n",
    "    tissue_dimensions=(microns(1000), microns(1000))\n",
    ")\n",
    "ds = BreastCancerTissueDataset(\n",
    "    tissue=st, \n",
    "    effective_distance=MAX_EFFECTIVE_DISTANCE, \n",
    "    responder_cell_type=FIBROBLAST\n",
    ")"
   ]
  },
  {
   "cell_type": "code",
   "execution_count": 11,
   "metadata": {},
   "outputs": [
    {
     "data": {
      "text/plain": [
       "\n",
       "        responder_cell_type: 1\n",
       "        is_dividing: 1\n",
       "        cell_types: tensor([1, 1, 1, 2])\n",
       "        distances: \n",
       "tensor([[  0, 100,  50, 100],\n",
       "        [100,   0,  50,   0],\n",
       "        [ 50,  50,   0,  50],\n",
       "        [100,   0,  50,   0]])\n",
       "        "
      ]
     },
     "execution_count": 11,
     "metadata": {},
     "output_type": "execute_result"
    }
   ],
   "source": [
    "ds[2]"
   ]
  }
 ],
 "metadata": {
  "kernelspec": {
   "display_name": ".venv",
   "language": "python",
   "name": "python3"
  },
  "language_info": {
   "codemirror_mode": {
    "name": "ipython",
    "version": 3
   },
   "file_extension": ".py",
   "mimetype": "text/x-python",
   "name": "python",
   "nbconvert_exporter": "python",
   "pygments_lexer": "ipython3",
   "version": "3.11.8"
  }
 },
 "nbformat": 4,
 "nbformat_minor": 2
}
